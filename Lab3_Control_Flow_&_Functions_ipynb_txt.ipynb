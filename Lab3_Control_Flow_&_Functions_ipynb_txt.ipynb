{
  "cells": [
    {
      "cell_type": "markdown",
      "id": "b557d379",
      "metadata": {
        "id": "b557d379"
      },
      "source": [
        "# Lab Assignment 3 -- Control Flow & Functions\n",
        "In this lab, you will complete a series of exercises related to the lecture material on control flow and functions."
      ]
    },
    {
      "cell_type": "markdown",
      "id": "f2d3f549",
      "metadata": {
        "id": "f2d3f549"
      },
      "source": [
        "## Exercise 1a -- Divisible by n\n",
        "Define a function called `divisible_by_n()` that takes two inputs:\n",
        "- a range\n",
        "- a single integer (the n)\n",
        "\n",
        "By default, the single integer argument should be equal to 2 if only one argument is provided.\n",
        "\n",
        "You function should return a list of all numbers in the input range that are divisible by `n`.\n",
        "\n",
        "Include a function description for your function using docstrings.\n",
        "\n",
        "**Hints**\n",
        "- You can use `%` (for modular arithmetic) or you can use `math.round()` to check if a number is divisible by 3.\n",
        "- Think about whether you should to use a `for` loop or a `while` loop."
      ]
    },
    {
      "cell_type": "code",
      "id": "a6113693",
      "metadata": {
        "colab": {
          "base_uri": "https://localhost:8080/"
        },
        "id": "a6113693",
        "outputId": "fed4f17e-4bf5-4da6-d514-f7a8fffd52f6"
      },
      "source": [
        "# Exercise 1a\n",
        "divisible_by_n = lambda range, n: [x for x in range if x % n == 0]\n",
        "#this function gives you those integers that can are divisible by the given integer in a given range\n",
        "divisible_by_n(range(6),2)"
      ],
      "outputs": [
        {
          "output_type": "execute_result",
          "data": {
            "text/plain": [
              "[0, 2, 4]"
            ]
          },
          "metadata": {},
          "execution_count": 9
        }
      ],
      "execution_count": 9
    },
    {
      "cell_type": "markdown",
      "id": "d8d77670",
      "metadata": {
        "id": "d8d77670"
      },
      "source": [
        "## Exercise 1b -- Big Lists\n",
        "`%timeit` in the code below is what is known as an IPython magic function. IPython stands for Interactive Python and simply refers to a version of the Python (and other coding languages) environment that has more functionality than the standard one. In particular, this functionality makes Python easier to interact with if we want to explore data, test functions, etc. Jupyter is built on IPython.\n",
        "\n",
        "`%timeit` runs the code that follows it many times to get a sense of how long the code takes to run. Below, we use it to time how long `divide_by_n` takes on two ranges of different lengths.\n",
        "\n",
        "Run the cell and answer the following questions in a Markdown cell:\n",
        "1. Which range takes longer to get through? By how many times longer does it take? Does this make sense to you? What does it say about how the time of computation is affected by the length of the range?\n",
        "2. Would your function work with a list instead of a range? Why or why not?\n",
        "\n",
        "**Hint:** $\\mu s$ means microseconds"
      ]
    },
    {
      "cell_type": "code",
      "id": "3de20bc7",
      "metadata": {
        "colab": {
          "base_uri": "https://localhost:8080/"
        },
        "id": "3de20bc7",
        "outputId": "cc735dcd-d7c4-440e-da3c-0d646a6e095e"
      },
      "source": [
        "# Exercise 1b -- don't edit this cell\n",
        "%timeit divisible_by_n(range(1_001), 3)\n",
        "%timeit divisible_by_n(range(10_001), 3)"
      ],
      "outputs": [
        {
          "output_type": "stream",
          "name": "stdout",
          "text": [
            "79.4 µs ± 3.7 µs per loop (mean ± std. dev. of 7 runs, 10000 loops each)\n",
            "929 µs ± 260 µs per loop (mean ± std. dev. of 7 runs, 1000 loops each)\n"
          ]
        }
      ],
      "execution_count": 10
    },
    {
      "cell_type": "markdown",
      "id": "d6fd32c2",
      "metadata": {
        "id": "d6fd32c2"
      },
      "source": [
        "### Response to 1b"
      ]
    },
    {
      "cell_type": "code",
      "source": [
        "#1.the second one takes about 10 times longer than the first one to run.\n",
        "#it indicates that the longer the length is the more time it takes.\n",
        "#maybe it's in proportion...for the length is also about 10 times longer\n",
        "#2.It works! I think as long as numbers make up the list, it's ok, be it float or integer.\n",
        "\n",
        "\n"
      ],
      "metadata": {
        "id": "h8Kc-IytECpU"
      },
      "id": "h8Kc-IytECpU",
      "execution_count": null,
      "outputs": []
    },
    {
      "cell_type": "code",
      "id": "c8c3a0a6",
      "metadata": {
        "colab": {
          "base_uri": "https://localhost:8080/"
        },
        "id": "c8c3a0a6",
        "outputId": "747e0402-19a5-423d-e350-00f9d35bbe27"
      },
      "source": [
        "divisible_by_n([1,2,3,4,5,8,100,101.1,7.9], 3)"
      ],
      "outputs": [
        {
          "output_type": "execute_result",
          "data": {
            "text/plain": [
              "[3]"
            ]
          },
          "metadata": {},
          "execution_count": 17
        }
      ],
      "execution_count": 17
    },
    {
      "cell_type": "markdown",
      "id": "34af43ec",
      "metadata": {
        "id": "34af43ec"
      },
      "source": [
        "## Exercise 2 -- Function Objects vs. Function Calls\n",
        "`sum()` is a function that can take some iterables and return the sum of elements in that iterable. In the Markdown cell below, answer the following questions.\n",
        "1. What types is `sum`?\n",
        "2. What type is `sum([1,2,3])`? How about `sum([1,2.0,3])`?\n",
        "3. Are the types of these three objects the same or different? Why?\n",
        "4. What is the type of `print(\"hello\")`? Why?\n"
      ]
    },
    {
      "cell_type": "code",
      "id": "ce7e11cd",
      "metadata": {
        "colab": {
          "base_uri": "https://localhost:8080/"
        },
        "id": "ce7e11cd",
        "outputId": "5e2c5363-bbd2-4199-e515-a58f82210177"
      },
      "source": [
        "# If needed, you can call the type function on these objects to help answer the question\n",
        "print(type(sum))\n",
        "print(type(sum([1,2,3])))\n",
        "print(type(sum([1,2.0,3])))\n",
        "print(type(print(\"hello\")))"
      ],
      "outputs": [
        {
          "output_type": "stream",
          "name": "stdout",
          "text": [
            "<class 'builtin_function_or_method'>\n",
            "<class 'int'>\n",
            "<class 'float'>\n",
            "hello\n",
            "<class 'NoneType'>\n"
          ]
        }
      ],
      "execution_count": 19
    },
    {
      "cell_type": "markdown",
      "id": "708ca789",
      "metadata": {
        "id": "708ca789"
      },
      "source": [
        "### Reponse to Exercise 2"
      ]
    },
    {
      "cell_type": "markdown",
      "id": "18d0aa8e",
      "metadata": {
        "id": "18d0aa8e"
      },
      "source": [
        "# Exercise 3\n",
        "Exercise 3 is a series of six questions\n",
        "## Exercise 3a -- Factorial Function\n",
        "The factorial of an integer n (denoted n! in mathematics) is equal to itself multipled by all of the integers smaller than n. That is\n",
        "$$\n",
        "n! = n * (n-1) * (n-2) *...* 2 * 1\n",
        "$$\n",
        "where $0!$ is defined to be 1.\n",
        "\n",
        "The module `math` already has a factorial function, but you are going to build your own. In the cell below, define a function called `custom_factorial` that takes an integer as an input and returns the factorial of that integer. You must use a loop to calculate the factorial."
      ]
    },
    {
      "cell_type": "code",
      "id": "a6ae690f",
      "metadata": {
        "colab": {
          "base_uri": "https://localhost:8080/"
        },
        "id": "a6ae690f",
        "outputId": "51771de6-9bfd-4409-eff7-6e8ee9e68d2b"
      },
      "source": [
        "# Exercise 3a Code\n",
        "custom_factorial = lambda n: 1 if n == 0 else n * custom_factorial(n-1)\n",
        "custom_factorial(4)"
      ],
      "outputs": [
        {
          "output_type": "execute_result",
          "data": {
            "text/plain": [
              "24"
            ]
          },
          "metadata": {},
          "execution_count": 18
        }
      ],
      "execution_count": 18
    },
    {
      "cell_type": "code",
      "id": "bf8b5f15",
      "metadata": {
        "id": "bf8b5f15"
      },
      "source": [],
      "outputs": [],
      "execution_count": null
    },
    {
      "cell_type": "markdown",
      "id": "6a76366f",
      "metadata": {
        "id": "6a76366f"
      },
      "source": [
        "## Exercise 3b -- Checking Your Work\n",
        "Using the `math` module's `factorial` function and a comparison operator, check that your function works for 10!.\n"
      ]
    },
    {
      "cell_type": "code",
      "id": "f52c5077",
      "metadata": {
        "colab": {
          "base_uri": "https://localhost:8080/"
        },
        "id": "f52c5077",
        "outputId": "2ab06121-de2f-42fe-c6c5-7b7e819d3a02"
      },
      "source": [
        "# Exercise 3b Code\n",
        "import math\n",
        "math.factorial(10) == custom_factorial(10)"
      ],
      "outputs": [
        {
          "output_type": "execute_result",
          "data": {
            "text/plain": [
              "True"
            ]
          },
          "metadata": {},
          "execution_count": 19
        }
      ],
      "execution_count": 19
    },
    {
      "cell_type": "markdown",
      "id": "d6933761",
      "metadata": {
        "id": "d6933761"
      },
      "source": [
        "## Exercise 3c -- Nondecreasing Functions\n",
        "A function $f$ is nondecreasing when $f(x) \\geq f(y)$  if and only if $x \\geq y$. Using `matplotlib.pyplot`, and your function plot the factorial function for $n = 0, 1, 2, 3, ..., 20$. You can plot a scatter plot or a line plot.\n",
        "\n",
        "In the Markdown cell below, give another example of a nondecreasing function.\n",
        "\n",
        "**Hint:** Use a a list comprehension."
      ]
    },
    {
      "cell_type": "code",
      "id": "297f61d9",
      "metadata": {
        "colab": {
          "base_uri": "https://localhost:8080/",
          "height": 463
        },
        "id": "297f61d9",
        "outputId": "c958e2a4-d03c-4435-eb2d-c77d97ac1d7f"
      },
      "source": [
        "# Exercise 3c Code\n",
        "import matplotlib.pyplot as plt\n",
        "x = [i for i in range(21)]\n",
        "y = [custom_factorial(i) for i in range(21)]\n",
        "plt.plot(x,y)"
      ],
      "outputs": [
        {
          "output_type": "execute_result",
          "data": {
            "text/plain": [
              "[<matplotlib.lines.Line2D at 0x7e380e290a30>]"
            ]
          },
          "metadata": {},
          "execution_count": 22
        },
        {
          "output_type": "display_data",
          "data": {
            "text/plain": [
              "<Figure size 640x480 with 1 Axes>"
            ],
            "image/png": "[encoded data removed]"
          },
          "metadata": {}
        }
      ],
      "execution_count": 22
    },
    {
      "cell_type": "markdown",
      "id": "a97e10da",
      "metadata": {
        "id": "a97e10da"
      },
      "source": [
        "### Response to Exercise 3c"
      ]
    },
    {
      "cell_type": "markdown",
      "source": [
        "f(x)=2x"
      ],
      "metadata": {
        "id": "91bcaXuZWivv"
      },
      "id": "91bcaXuZWivv"
    },
    {
      "cell_type": "markdown",
      "id": "9f9b870c",
      "metadata": {
        "id": "9f9b870c"
      },
      "source": [
        "## Exercise 3d -- Finding the Smallest Integer\n",
        "For a generic nondecreasing function $f$, we might be interested in finding the smallest integer $n$ such that $f(n)$ is greater than or equal to some constant $c$. In the lecture we did this with $f(n) = n^2$, which is nondecreasing for $n \\geq 0$, and $c = 12345$.\n",
        "\n",
        "Now, define a function calld `find_smallest_int` that takes a starting value `start`, a function `f`, and a constant `c` as inputs. Recognizing that these correspond to the values above, have your function return two values: the smallest integer $n$ such that $f(n) \\geq c$ and the value of $f(n)$ for that integer.\n",
        "\n",
        "**Hint:** If you're stuck, try looking at the lecture."
      ]
    },
    {
      "cell_type": "code",
      "id": "025521ae",
      "metadata": {
        "colab": {
          "base_uri": "https://localhost:8080/"
        },
        "id": "025521ae",
        "outputId": "a23c5e1a-87e8-4fe0-ea22-d287b72df901"
      },
      "source": [
        "# Exercise 3d Code\n",
        "def find_smallest_int(start, f, c):\n",
        "    n = start\n",
        "    while f(n) < c:\n",
        "        n += 1\n",
        "    return n, f(n)\n",
        "find_smallest_int(0, custom_factorial, 12345)"
      ],
      "outputs": [
        {
          "output_type": "execute_result",
          "data": {
            "text/plain": [
              "(8, 40320)"
            ]
          },
          "metadata": {},
          "execution_count": 20
        }
      ],
      "execution_count": 20
    },
    {
      "cell_type": "code",
      "id": "6622a652",
      "metadata": {
        "colab": {
          "base_uri": "https://localhost:8080/"
        },
        "id": "6622a652",
        "outputId": "2a7f56b6-e4af-4614-8b05-b83b37514370"
      },
      "source": [
        "find_smallest_int(0, lambda x: x ** 2, 12345)"
      ],
      "outputs": [
        {
          "output_type": "execute_result",
          "data": {
            "text/plain": [
              "(112, 12544)"
            ]
          },
          "metadata": {},
          "execution_count": 6
        }
      ],
      "execution_count": 6
    },
    {
      "cell_type": "markdown",
      "id": "c95a31db",
      "metadata": {
        "id": "c95a31db"
      },
      "source": [
        "## Exercise 3e -- Plugging in Your Function\n",
        "Now, use `find_smallest_int` and `custom_factorial` to find the smallest $n$ such that $n! \\geq 12,345$. Use a starting value of 0. Check your answer as we did in the lecture.\n"
      ]
    },
    {
      "cell_type": "code",
      "id": "fbb8967e",
      "metadata": {
        "colab": {
          "base_uri": "https://localhost:8080/"
        },
        "id": "fbb8967e",
        "outputId": "1a37d3c2-e42b-4460-9273-cbbf232ddf13"
      },
      "source": [
        "# Exercise 3e Code\n",
        "find_smallest_int(0, custom_factorial, 12345)"
      ],
      "outputs": [
        {
          "output_type": "execute_result",
          "data": {
            "text/plain": [
              "(8, 40320)"
            ]
          },
          "metadata": {},
          "execution_count": 21
        }
      ],
      "execution_count": 21
    },
    {
      "cell_type": "markdown",
      "id": "c91fbc7a",
      "metadata": {
        "id": "c91fbc7a"
      },
      "source": [
        "## Exercise 3f -- Increasing n\n",
        "Now we wil time the speed and output of `find_smallest_int` with smaller and larger values of $c$ and two different functions: `custom_factorial` and and a lambda function that sqaures a single input.\n",
        "\n",
        "Answer the folowing questions in the Markdown cell below:\n",
        "1. Which function takes longer to run for a fixed value of $c$. Why do you think this is?\n",
        "2. What is the ratio between runtimes when fixing the function and varying $c$ from 1,000 to 10,000. How about 10,000 to 100,000? Compare this ratio to the ratio of smallest integers for those runs. Are they similar? Why or why not?  You will want to write some code to compare these values.\n"
      ]
    },
    {
      "cell_type": "code",
      "id": "a6081adb",
      "metadata": {
        "colab": {
          "base_uri": "https://localhost:8080/"
        },
        "id": "a6081adb",
        "outputId": "58cc2566-6855-4b19-9cc7-4c2ba36d37b9"
      },
      "source": [
        "# Exercise 1b -- don't edit this cell\n",
        "%timeit find_smallest_int(0, custom_factorial, 1_000)\n",
        "%timeit find_smallest_int(0, custom_factorial, 10_000)\n",
        "%timeit find_smallest_int(0, custom_factorial, 100_000)\n",
        "\n",
        "\n",
        "\n",
        "%timeit find_smallest_int(0, lambda x: x ** 2, 1_000)\n",
        "%timeit find_smallest_int(0, lambda x: x ** 2, 10_000)\n",
        "%timeit find_smallest_int(0, lambda x: x ** 2, 100_000)"
      ],
      "outputs": [
        {
          "output_type": "stream",
          "name": "stdout",
          "text": [
            "7.1 µs ± 1.9 µs per loop (mean ± std. dev. of 7 runs, 100000 loops each)\n",
            "7.63 µs ± 120 ns per loop (mean ± std. dev. of 7 runs, 100000 loops each)\n",
            "9.92 µs ± 1.95 µs per loop (mean ± std. dev. of 7 runs, 100000 loops each)\n",
            "14.6 µs ± 2.68 µs per loop (mean ± std. dev. of 7 runs, 100000 loops each)\n",
            "36.4 µs ± 759 ns per loop (mean ± std. dev. of 7 runs, 10000 loops each)\n",
            "132 µs ± 28 µs per loop (mean ± std. dev. of 7 runs, 10000 loops each)\n"
          ]
        }
      ],
      "execution_count": 22
    },
    {
      "cell_type": "code",
      "id": "5e96be8e",
      "metadata": {
        "scrolled": false,
        "id": "5e96be8e"
      },
      "source": [
        "# Compare ratios here\n",
        "#lambda takes more time maybe because they deal with new instructions everytime while the defined ones are like stored inside\n",
        "#the time increases like exponentially?idk..."
      ],
      "outputs": [],
      "execution_count": null
    },
    {
      "cell_type": "code",
      "id": "e149467c",
      "metadata": {
        "id": "e149467c"
      },
      "source": [],
      "outputs": [],
      "execution_count": null
    },
    {
      "cell_type": "markdown",
      "id": "0429212c",
      "metadata": {
        "id": "0429212c"
      },
      "source": [
        "### Response to Exercise 3f"
      ]
    },
    {
      "cell_type": "markdown",
      "id": "2987b626",
      "metadata": {
        "id": "2987b626"
      },
      "source": [
        "## Exercise 4 -- Fibonacci Sequence\n",
        "The Fibonacci Sequence is an infinite sequence of integers $X_0, X_1, X_2, X_3, ...$ defined as below\n",
        "\n",
        "$$\n",
        "X_0 = 0\n",
        "$$\n",
        "$$\n",
        "X_1 = 1\n",
        "$$\n",
        "$$\n",
        "\\hspace{3.66cm}X_t = X_{t-1} + X_{t-2} \\text{ for } t \\geq 2\n",
        "$$\n",
        "\n",
        "Below define a function called `fibo_seq` that takes $t$ as an input and returns $X_t$, the $t$-th element of the Fibonacci Sequence.\n"
      ]
    },
    {
      "cell_type": "code",
      "id": "af4f720b",
      "metadata": {
        "id": "af4f720b"
      },
      "source": [
        "## Exercise 4 Code\n",
        "def fibo_seq(t):\n",
        "    if t==0 or t==1:\n",
        "        return t\n",
        "    else:\n",
        "        return fibo_seq(t-1)+t"
      ],
      "outputs": [],
      "execution_count": 2
    },
    {
      "cell_type": "code",
      "id": "76c3597e",
      "metadata": {
        "colab": {
          "base_uri": "https://localhost:8080/"
        },
        "id": "76c3597e",
        "outputId": "1c61c9e8-702a-47bc-e5f8-2a4908e76c2b"
      },
      "source": [
        "fibo_seq(5)"
      ],
      "outputs": [
        {
          "output_type": "execute_result",
          "data": {
            "text/plain": [
              "15"
            ]
          },
          "metadata": {},
          "execution_count": 4
        }
      ],
      "execution_count": 4
    },
    {
      "cell_type": "markdown",
      "id": "10cd6fbc",
      "metadata": {
        "id": "10cd6fbc"
      },
      "source": [
        "## Exercise 5 -- Palindrome Detector\n",
        "A palindrome is a word or phrase that is spelled the same backwards as it is forwards (ignoring spaces). Create a function called `is_palindrome` that takes a list of strings and returns a list of Boolean variables that indicate whether the respective string is a palindrome or not. **Ignore capitalization and spaces**.\n",
        "\n",
        "When you're ready, test your function out on the cell below where `palindromes` and `nonpalindromes` are defined. Your function should return `[True, True, True, True, True]` for the former and `[False, False, False]` for the latter.\n",
        "\n",
        "\n",
        "**Hints**\n",
        "- A method will help you get rid of the white space\n",
        "- Look up on Google how to reverse a string as the reverse method only exists for lists"
      ]
    },
    {
      "cell_type": "code",
      "id": "fa2d5b1a",
      "metadata": {
        "id": "fa2d5b1a"
      },
      "source": [
        "# Exercise 5 -- create is_palindrome function here"
      ],
      "outputs": [],
      "execution_count": 10
    },
    {
      "cell_type": "code",
      "source": [
        "def is_palindrome(words):\n",
        "  \"\"\"\n",
        "  This function takes a list of strings and returns a list of Booleans\n",
        "  indicating whether each string is a palindrome.\n",
        "\n",
        "  Args:\n",
        "    words: A list of strings.\n",
        "\n",
        "  Returns:\n",
        "    A list of Booleans.\n",
        "  \"\"\"\n",
        "  result = []\n",
        "  for word in words:\n",
        "    processed_word = ''.join(word.lower().split())\n",
        "    result.append(processed_word == processed_word[::-1])\n",
        "  return result\n",
        "\n"
      ],
      "metadata": {
        "id": "g3yTPlP6fCDd"
      },
      "id": "g3yTPlP6fCDd",
      "execution_count": 12,
      "outputs": []
    },
    {
      "cell_type": "code",
      "id": "2334af93",
      "metadata": {
        "colab": {
          "base_uri": "https://localhost:8080/"
        },
        "id": "2334af93",
        "outputId": "95fa4077-9350-4dfd-bb06-3a84cc3b95d5"
      },
      "source": [
        "# Run this cell when you're ready -- do not edit it\n",
        "palindromes = [\"Radar\", \"Taco cat\", \"Stressed Desserts\", \"no Lemon no melon\", \"!??!!??!\"]\n",
        "nonpalindromes = [\"Hello World\", \"VSP\", \"Vancouver Canada\"]\n",
        "\n",
        "print(is_palindrome(palindromes))\n",
        "is_palindrome(nonpalindromes)"
      ],
      "outputs": [
        {
          "output_type": "stream",
          "name": "stdout",
          "text": [
            "[True, True, True, True, True]\n"
          ]
        },
        {
          "output_type": "execute_result",
          "data": {
            "text/plain": [
              "[False, False, False]"
            ]
          },
          "metadata": {},
          "execution_count": 13
        }
      ],
      "execution_count": 13
    }
  ],
  "metadata": {
    "kernelspec": {
      "display_name": "Python 3 (ipykernel)",
      "language": "python",
      "name": "python3"
    },
    "language_info": {
      "codemirror_mode": {
        "name": "ipython",
        "version": 3
      },
      "file_extension": ".py",
      "mimetype": "text/x-python",
      "name": "python",
      "nbconvert_exporter": "python",
      "pygments_lexer": "ipython3",
      "version": "3.9.15"
    },
    "colab": {
      "provenance": []
    }
  },
  "nbformat": 4,
  "nbformat_minor": 5
}